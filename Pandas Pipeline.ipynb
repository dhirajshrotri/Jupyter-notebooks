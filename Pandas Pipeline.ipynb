{
 "cells": [
  {
   "cell_type": "code",
   "execution_count": 4,
   "id": "74091a58",
   "metadata": {},
   "outputs": [
    {
     "name": "stdout",
     "output_type": "stream",
     "text": [
      "     Age            Job_Title     Degree  Income($)\n",
      "0   27.0      sales executive  bachelors      70000\n",
      "1   29.0      sales executive    masters     190000\n",
      "2    NaN     business manager  bachelors      61000\n",
      "3   28.0     business manager    masters     160000\n",
      "4   42.0  computer programmer  bachelors      50000\n",
      "5   39.0  computer programmer    masters     155000\n",
      "6    NaN      sales executive    masters     160000\n",
      "7   38.0  computer programmer  bachelors      62000\n",
      "8   36.0     business manager  bachelors      56000\n",
      "9   35.0     business manager    masters     130000\n",
      "10  37.0      sales executive  bachelors      37000\n",
      "11  26.0      sales executive    masters     145000\n",
      "12   NaN     business manager  bachelors      48000\n",
      "13  28.0     business manager    masters     151000\n",
      "14   NaN  computer programmer  bachelors      49500\n",
      "15  32.0  computer programmer    masters     153000\n",
      "16  40.0      sales executive    masters     165000\n",
      "17  41.0      sales executive  bachelors      63000\n",
      "18  43.0     business manager    masters     164000\n",
      "19   NaN     business manager    masters     180000\n",
      "20  41.0  computer programmer  bachelors      82000\n",
      "21  39.0  computer programmer  bachelors      58000\n"
     ]
    }
   ],
   "source": [
    "import pandas as pd\n",
    "dataframe = pd.read_csv(\".\datasets\income.csv\")\n",
    "print(dataframe)"
   ]
  },
  {
   "cell_type": "code",
   "execution_count": 7,
   "id": "5c1577c1",
   "metadata": {},
   "outputs": [],
   "source": [
    "import numpy as np\n",
    "from sklearn_pandas import DataFrameMapper\n",
    "from sklearn.pipeline import Pipeline\n",
    "from sklearn.impute import SimpleImputer\n",
    "from sklearn.preprocessing import StandardScaler, OneHotEncoder, LabelEncoder\n",
    "from sklearn.linear_model import LinearRegression\n",
    "\n",
    "mapper = DataFrameMapper([\n",
    "    ([\"Age\"], [SimpleImputer(missing_values=np.nan, strategy='mean'), StandardScaler()]),\n",
    "    ([\"Job_Title\"], OneHotEncoder()),\n",
    "    ([\"Degree\"], LabelEncoder())\n",
    "])\n",
    "\n",
    "pipeline = Pipeline(steps = [\n",
    "    (\"features\", mapper),\n",
    "    (\"model\", LinearRegression())\n",
    "])"
   ]
  },
  {
   "cell_type": "code",
   "execution_count": 9,
   "id": "4b0385ef",
   "metadata": {},
   "outputs": [
    {
     "name": "stdout",
     "output_type": "stream",
     "text": [
      "Training accuracy:  0.9349610249173839\n"
     ]
    },
    {
     "name": "stderr",
     "output_type": "stream",
     "text": [
      "c:\\users\\anish\\appdata\\local\\programs\\python\\python39\\lib\\site-packages\\sklearn\\utils\\deprecation.py:87: FutureWarning: Function get_feature_names is deprecated; get_feature_names is deprecated in 1.0 and will be removed in 1.2. Please use get_feature_names_out instead.\n",
      "  warnings.warn(msg, category=FutureWarning)\n",
      "c:\\users\\anish\\appdata\\local\\programs\\python\\python39\\lib\\site-packages\\sklearn\\preprocessing\\_label.py:115: DataConversionWarning: A column-vector y was passed when a 1d array was expected. Please change the shape of y to (n_samples, ), for example using ravel().\n",
      "  y = column_or_1d(y, warn=True)\n",
      "c:\\users\\anish\\appdata\\local\\programs\\python\\python39\\lib\\site-packages\\sklearn\\utils\\deprecation.py:87: FutureWarning: Function get_feature_names is deprecated; get_feature_names is deprecated in 1.0 and will be removed in 1.2. Please use get_feature_names_out instead.\n",
      "  warnings.warn(msg, category=FutureWarning)\n",
      "c:\\users\\anish\\appdata\\local\\programs\\python\\python39\\lib\\site-packages\\sklearn\\preprocessing\\_label.py:133: DataConversionWarning: A column-vector y was passed when a 1d array was expected. Please change the shape of y to (n_samples, ), for example using ravel().\n",
      "  y = column_or_1d(y, warn=True)\n"
     ]
    }
   ],
   "source": [
    "features = dataframe.drop(\"Income($)\", axis=1)\n",
    "target = dataframe[(\"Income($)\")]\n",
    "\n",
    "pipeline.fit(features, target)\n",
    "print(\"Training accuracy: \", pipeline.score(features, target))"
   ]
  },
  {
   "cell_type": "code",
   "execution_count": null,
   "id": "0599c60a",
   "metadata": {},
   "outputs": [],
   "source": []
  }
 ],
 "metadata": {
  "kernelspec": {
   "display_name": "Python 3",
   "language": "python",
   "name": "python3"
  },
  "language_info": {
   "codemirror_mode": {
    "name": "ipython",
    "version": 3
   },
   "file_extension": ".py",
   "mimetype": "text/x-python",
   "name": "python",
   "nbconvert_exporter": "python",
   "pygments_lexer": "ipython3",
   "version": "3.9.1"
  }
 },
 "nbformat": 4,
 "nbformat_minor": 5
}
